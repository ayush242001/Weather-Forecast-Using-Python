{
 "cells": [
  {
   "cell_type": "code",
   "execution_count": 1,
   "id": "b1b89560",
   "metadata": {},
   "outputs": [],
   "source": [
    "import requests"
   ]
  },
  {
   "cell_type": "code",
   "execution_count": 2,
   "id": "8bb0d74d",
   "metadata": {},
   "outputs": [],
   "source": [
    "API_ENDPOINT = \"https://samples.openweathermap.org/data/2.5/forecast/hourly?q=London,us&appid=b6907d289e10d714a6e88b30761fae22\"\n",
    "\n",
    "def get_weather_data():\n",
    "    response = requests.get(API_ENDPOINT)\n",
    "    data = response.json()\n",
    "    return data[\"list\"]"
   ]
  },
  {
   "cell_type": "code",
   "execution_count": 3,
   "id": "3cddfeec",
   "metadata": {},
   "outputs": [],
   "source": [
    "def get_weather(data, date_time):\n",
    "    for entry in data:\n",
    "        if entry[\"dt_txt\"] == date_time:\n",
    "            return entry[\"main\"][\"temp\"]"
   ]
  },
  {
   "cell_type": "code",
   "execution_count": 4,
   "id": "eac18ee4",
   "metadata": {},
   "outputs": [],
   "source": [
    "def get_wind_speed(data, date_time):\n",
    "    for entry in data:\n",
    "        if entry[\"dt_txt\"] == date_time:\n",
    "            return entry[\"wind\"][\"speed\"]"
   ]
  },
  {
   "cell_type": "code",
   "execution_count": 5,
   "id": "c9e4792a",
   "metadata": {},
   "outputs": [],
   "source": [
    "def get_pressure(data, date_time):\n",
    "    for entry in data:\n",
    "        if entry[\"dt_txt\"] == date_time:\n",
    "            return entry[\"main\"][\"pressure\"]"
   ]
  },
  {
   "cell_type": "code",
   "execution_count": null,
   "id": "3b4640db",
   "metadata": {},
   "outputs": [
    {
     "name": "stdout",
     "output_type": "stream",
     "text": [
      "1. Get weather\n",
      "2. Get Wind Speed\n",
      "3. Get Pressure\n",
      "0. Exit\n",
      "Enter your choice: 4\n",
      "Sorry we dont have Information, But Keep Smilling\n",
      "\n",
      "1. Get weather\n",
      "2. Get Wind Speed\n",
      "3. Get Pressure\n",
      "0. Exit\n",
      "Enter your choice: 1\n",
      "Enter the date and time (YYYY-MM-DD HH:MM:SS): 2019-03-27 19:00:00\n",
      "The temperature on 2019-03-27 19:00:00 is 278.4°C.\n",
      "\n",
      "1. Get weather\n",
      "2. Get Wind Speed\n",
      "3. Get Pressure\n",
      "0. Exit\n",
      "Enter your choice: 2\n",
      "Enter the date and time (YYYY-MM-DD HH:MM:SS): 2019-03-27 19:00:00\n",
      "The wind speed on 2019-03-27 19:00:00 is 1.49 m/s.\n",
      "\n",
      "1. Get weather\n",
      "2. Get Wind Speed\n",
      "3. Get Pressure\n",
      "0. Exit\n",
      "Enter your choice: 3\n",
      "Enter the date and time (YYYY-MM-DD HH:MM:SS): 2019-03-27 19:00:00\n",
      "The pressure on 2019-03-27 19:00:00 is 1033.061 hPa.\n",
      "\n",
      "1. Get weather\n",
      "2. Get Wind Speed\n",
      "3. Get Pressure\n",
      "0. Exit\n"
     ]
    }
   ],
   "source": [
    "def main():\n",
    "    weather_data = get_weather_data()\n",
    "\n",
    "    while True:\n",
    "        print(\"1. Get weather\")\n",
    "        print(\"2. Get Wind Speed\")\n",
    "        print(\"3. Get Pressure\")\n",
    "        print(\"0. Exit\")\n",
    "\n",
    "        choice = int(input(\"Enter your choice: \"))\n",
    "\n",
    "        if choice == 1:\n",
    "            date_time = input(\"Enter the date and time (YYYY-MM-DD HH:MM:SS): \")\n",
    "            weather = get_weather(weather_data, date_time)\n",
    "            print(f\"The temperature on {date_time} is {weather}°C.\\n\")\n",
    "        elif choice == 2:\n",
    "            date_time = input(\"Enter the date and time (YYYY-MM-DD HH:MM:SS): \")\n",
    "            wind_speed = get_wind_speed(weather_data, date_time)\n",
    "            print(f\"The wind speed on {date_time} is {wind_speed} m/s.\\n\")\n",
    "        elif choice == 3:\n",
    "            date_time = input(\"Enter the date and time (YYYY-MM-DD HH:MM:SS): \")\n",
    "            pressure = get_pressure(weather_data, date_time)\n",
    "            print(f\"The pressure on {date_time} is {pressure} hPa.\\n\")\n",
    "        elif choice == 0:\n",
    "            print(\"Exiting the program.\")\n",
    "            break\n",
    "        else:\n",
    "            print(\"Sorry we dont have Information, But Keep Smilling\\n\")\n",
    "\n",
    "if __name__ == \"__main__\":\n",
    "    main()"
   ]
  },
  {
   "cell_type": "code",
   "execution_count": null,
   "id": "45325740",
   "metadata": {},
   "outputs": [],
   "source": []
  }
 ],
 "metadata": {
  "kernelspec": {
   "display_name": "Python 3 (ipykernel)",
   "language": "python",
   "name": "python3"
  },
  "language_info": {
   "codemirror_mode": {
    "name": "ipython",
    "version": 3
   },
   "file_extension": ".py",
   "mimetype": "text/x-python",
   "name": "python",
   "nbconvert_exporter": "python",
   "pygments_lexer": "ipython3",
   "version": "3.11.3"
  }
 },
 "nbformat": 4,
 "nbformat_minor": 5
}
